{
 "cells": [
  {
   "cell_type": "markdown",
   "id": "3ce53f3f",
   "metadata": {},
   "source": [
    "## 1. To what does a relative path refer?"
   ]
  },
  {
   "cell_type": "code",
   "execution_count": null,
   "id": "e07ef1d8",
   "metadata": {},
   "outputs": [],
   "source": [
    "Relative path refer to \n",
    "os.path.relpath()\n",
    "To set a relative path in Python, use the os.path.dirname() function.\n",
    "The os.path module is a sub-module of the OS module used for common path name manipulation"
   ]
  },
  {
   "cell_type": "markdown",
   "id": "cace01e1",
   "metadata": {},
   "source": [
    "## 2. What does an absolute path start with your operating system?"
   ]
  },
  {
   "cell_type": "code",
   "execution_count": null,
   "id": "a80a942a",
   "metadata": {},
   "outputs": [],
   "source": [
    "An absolute path is defined as the specifying the location of a file or directory from the root directory(/).\n",
    "This path will begin at the home directory of your computer and will end with the file or directory that you wish to access.\n",
    "Absolute paths ensure that Python can find the exact file on your computer"
   ]
  },
  {
   "cell_type": "markdown",
   "id": "d51a8527",
   "metadata": {},
   "source": [
    "## 3. What do the functions os.getcwd() and os.chdir() do?"
   ]
  },
  {
   "cell_type": "code",
   "execution_count": null,
   "id": "52595ae4",
   "metadata": {},
   "outputs": [],
   "source": [
    "os. getcwd() method to extract the current working directory.\n",
    "\n",
    "os.chdir() method in Python used to change the current working directory to specified path"
   ]
  },
  {
   "cell_type": "markdown",
   "id": "a4952ca5",
   "metadata": {},
   "source": [
    "## 4. What are the . and .. folders?"
   ]
  },
  {
   "cell_type": "code",
   "execution_count": null,
   "id": "32afdc87",
   "metadata": {},
   "outputs": [],
   "source": [
    "single dot (.) means the current directory\n",
    "(..)mean the parent directory"
   ]
  },
  {
   "cell_type": "markdown",
   "id": "2886dc53",
   "metadata": {},
   "source": [
    "## 5. In C:\\bacon\\eggs\\spam.txt, which part is the dir name, and which part is the base name?"
   ]
  },
  {
   "cell_type": "code",
   "execution_count": null,
   "id": "035ee724",
   "metadata": {},
   "outputs": [],
   "source": [
    "C:\\bacon\\eggs is the dir name,\n",
    "while spam. txt is the base name. "
   ]
  },
  {
   "cell_type": "markdown",
   "id": "afa130ab",
   "metadata": {},
   "source": [
    "## 6. What are the three “mode” arguments that can be passed to the open() function?"
   ]
  },
  {
   "cell_type": "code",
   "execution_count": null,
   "id": "129eff53",
   "metadata": {},
   "outputs": [],
   "source": [
    "\n",
    "The open() function takes up to 3 parameters – the filename, the mode, and the encoding\n"
   ]
  },
  {
   "cell_type": "code",
   "execution_count": null,
   "id": "f7e93163",
   "metadata": {},
   "outputs": [],
   "source": [
    "my_file = open(\"hello.txt\", \"r\")\n",
    "print(my_file.read())"
   ]
  },
  {
   "cell_type": "markdown",
   "id": "597d4808",
   "metadata": {},
   "source": [
    "## 7. What happens if an existing file is opened in write mode?"
   ]
  },
  {
   "cell_type": "markdown",
   "id": "00efec77",
   "metadata": {},
   "source": [
    "r+ : Opens a file for reading and writing, placing the pointer at the beginning of the file. w : Opens in write-only mode. The pointer is placed at the beginning of the file and this will overwrite any existing file with the same name. It will create a new file if one with the same name doesn't exist"
   ]
  },
  {
   "cell_type": "markdown",
   "id": "86d67dbb",
   "metadata": {},
   "source": [
    "## 8. How do you tell the difference between read() and readlines()?"
   ]
  },
  {
   "cell_type": "code",
   "execution_count": null,
   "id": "43fa6b1e",
   "metadata": {},
   "outputs": [],
   "source": [
    " read() will read the whole file at once\n",
    "readlines() method will return all the lines in a file in the format of a list where each element is a line in the file"
   ]
  },
  {
   "cell_type": "markdown",
   "id": "7203812d",
   "metadata": {},
   "source": [
    "## 9. What data structure does a shelf value resemble?"
   ]
  },
  {
   "cell_type": "markdown",
   "id": "36bb8aa2",
   "metadata": {},
   "source": [
    "A shelf value resembles a dictionary value; it has keys and values, along with keys() and values() methods that work similarly to the dictionary methods of the same names."
   ]
  },
  {
   "cell_type": "code",
   "execution_count": null,
   "id": "e2f01f0d",
   "metadata": {},
   "outputs": [],
   "source": []
  }
 ],
 "metadata": {
  "kernelspec": {
   "display_name": "Python 3 (ipykernel)",
   "language": "python",
   "name": "python3"
  },
  "language_info": {
   "codemirror_mode": {
    "name": "ipython",
    "version": 3
   },
   "file_extension": ".py",
   "mimetype": "text/x-python",
   "name": "python",
   "nbconvert_exporter": "python",
   "pygments_lexer": "ipython3",
   "version": "3.9.6"
  }
 },
 "nbformat": 4,
 "nbformat_minor": 5
}
