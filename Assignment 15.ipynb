{
 "cells": [
  {
   "cell_type": "markdown",
   "id": "bd56a674",
   "metadata": {},
   "source": [
    "## 1.How many seconds are in an hour? Use the interactive interpreter as a calculator and multiply the number of seconds in a minute (60) by the number of minutes in an hour (also 60)."
   ]
  },
  {
   "cell_type": "code",
   "execution_count": 3,
   "id": "fd95f34b",
   "metadata": {},
   "outputs": [
    {
     "data": {
      "text/plain": [
       "3600"
      ]
     },
     "execution_count": 3,
     "metadata": {},
     "output_type": "execute_result"
    }
   ],
   "source": [
    "seconds_per_min=60\n",
    "min_per_hour=60\n",
    "second_per_hour=min_per_hour*seconds_per_min\n",
    "second_per_hour"
   ]
  },
  {
   "cell_type": "markdown",
   "id": "e7976886",
   "metadata": {},
   "source": [
    "## 2. Assign the result from the previous task (seconds in an hour) to a variable called seconds_per_hour."
   ]
  },
  {
   "cell_type": "code",
   "execution_count": 4,
   "id": "a8564f87",
   "metadata": {},
   "outputs": [],
   "source": [
    "second_per_hour=3600"
   ]
  },
  {
   "cell_type": "markdown",
   "id": "3a17cbfb",
   "metadata": {},
   "source": [
    "## 3. How many seconds do you think there are in a day? Make use of the variables seconds per hour and minutes per hour."
   ]
  },
  {
   "cell_type": "code",
   "execution_count": 6,
   "id": "3e4e45ae",
   "metadata": {},
   "outputs": [
    {
     "data": {
      "text/plain": [
       "86400"
      ]
     },
     "execution_count": 6,
     "metadata": {},
     "output_type": "execute_result"
    }
   ],
   "source": [
    "Total_hour_inday=24\n",
    "Total_second_inday=second_per_hour*Total_hour_inday\n",
    "Total_second_inday"
   ]
  },
  {
   "cell_type": "markdown",
   "id": "fb8edc43",
   "metadata": {},
   "source": [
    "## 4. Calculate seconds per day again, but this time save the result in a variable called seconds_per_day"
   ]
  },
  {
   "cell_type": "code",
   "execution_count": 7,
   "id": "867d2a0d",
   "metadata": {},
   "outputs": [
    {
     "data": {
      "text/plain": [
       "86400"
      ]
     },
     "execution_count": 7,
     "metadata": {},
     "output_type": "execute_result"
    }
   ],
   "source": [
    "Total_hour_inday=24\n",
    "second_per_day=second_per_hour*Total_hour_inday\n",
    "second_per_day"
   ]
  },
  {
   "cell_type": "markdown",
   "id": "96a2397e",
   "metadata": {},
   "source": [
    "## 5. Divide seconds_per_day by seconds_per_hour. Use floating-point (/) division."
   ]
  },
  {
   "cell_type": "code",
   "execution_count": 8,
   "id": "99b45e9a",
   "metadata": {},
   "outputs": [
    {
     "data": {
      "text/plain": [
       "24.0"
      ]
     },
     "execution_count": 8,
     "metadata": {},
     "output_type": "execute_result"
    }
   ],
   "source": [
    "second_per_day/second_per_hour"
   ]
  },
  {
   "cell_type": "markdown",
   "id": "721db259",
   "metadata": {},
   "source": [
    "## 6. Divide seconds_per_day by seconds_per_hour, using integer (//) division. Did this number agree with the floating-point value from the previous question, aside from the final .0?"
   ]
  },
  {
   "cell_type": "code",
   "execution_count": 9,
   "id": "0d1aeff7",
   "metadata": {},
   "outputs": [
    {
     "data": {
      "text/plain": [
       "24"
      ]
     },
     "execution_count": 9,
     "metadata": {},
     "output_type": "execute_result"
    }
   ],
   "source": [
    "second_per_day//second_per_hour"
   ]
  },
  {
   "cell_type": "markdown",
   "id": "a44eaa7c",
   "metadata": {},
   "source": [
    "## 7. Write a generator, genPrimes, that returns the sequence of prime numbers on successive calls to its next() method: 2, 3, 5, 7, 11, ..."
   ]
  },
  {
   "cell_type": "code",
   "execution_count": 12,
   "id": "f417206e",
   "metadata": {},
   "outputs": [
    {
     "name": "stdout",
     "output_type": "stream",
     "text": [
      "2,3,5,7,11,13,17,19,23,29,31,37,41,43,47,53,59,61,67,71,73,79,83,89,97,101,103,107,109,113,127,131,137,139,149,151,157,163,167,173,179,181,191,193,197,199,211,223,227,229,"
     ]
    }
   ],
   "source": [
    "def genPrimes():\n",
    "    \n",
    "    primes = [ 2, 3, 5, 7, 11 ]\n",
    "    \n",
    "    def PrimeNumber(n):\n",
    "        if n in primes:\n",
    "            return True\n",
    "        \n",
    "        for elem in primes:\n",
    "            if n % elem == 0:\n",
    "                return False\n",
    "                \n",
    "        primes.append(n)\n",
    "        return True\n",
    "    num = 1\n",
    "    while True:\n",
    "        num += 1\n",
    "        if PrimeNumber(num):\n",
    "            next = num\n",
    "            yield next\n",
    "            num = next\n",
    "primeNumberr = genPrimes()\n",
    "\n",
    "for i in range(50):\n",
    "    print(primeNumberr.__next__(),end=',')"
   ]
  },
  {
   "cell_type": "code",
   "execution_count": null,
   "id": "c44fa124",
   "metadata": {},
   "outputs": [],
   "source": []
  }
 ],
 "metadata": {
  "kernelspec": {
   "display_name": "Python 3 (ipykernel)",
   "language": "python",
   "name": "python3"
  },
  "language_info": {
   "codemirror_mode": {
    "name": "ipython",
    "version": 3
   },
   "file_extension": ".py",
   "mimetype": "text/x-python",
   "name": "python",
   "nbconvert_exporter": "python",
   "pygments_lexer": "ipython3",
   "version": "3.9.6"
  }
 },
 "nbformat": 4,
 "nbformat_minor": 5
}
