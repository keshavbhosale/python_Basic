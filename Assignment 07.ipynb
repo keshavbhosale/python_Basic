{
 "cells": [
  {
   "cell_type": "markdown",
   "id": "939b9bd8",
   "metadata": {},
   "source": [
    "## 1. What is the name of the feature responsible for generating Regex objects?"
   ]
  },
  {
   "cell_type": "code",
   "execution_count": null,
   "id": "2f054c09",
   "metadata": {},
   "outputs": [],
   "source": [
    "The re.compile() function generates Regex objects."
   ]
  },
  {
   "cell_type": "markdown",
   "id": "feda810f",
   "metadata": {},
   "source": [
    "## 2. Why do raw strings often appear in Regex objects?"
   ]
  },
  {
   "cell_type": "code",
   "execution_count": null,
   "id": "e3e84763",
   "metadata": {},
   "outputs": [],
   "source": [
    "Raw strings are used so that backslashes do not have to be escaped"
   ]
  },
  {
   "cell_type": "markdown",
   "id": "6098a19c",
   "metadata": {},
   "source": [
    "## 3. What is the return value of the search() method?"
   ]
  },
  {
   "cell_type": "code",
   "execution_count": null,
   "id": "7aebb968",
   "metadata": {},
   "outputs": [],
   "source": [
    "search() method searches a string for a specified value, and returns the position of the match.  \n",
    "returns -1 if no match is found"
   ]
  },
  {
   "cell_type": "markdown",
   "id": "b16ca42b",
   "metadata": {},
   "source": [
    "## 4. From a Match item, how do you get the actual strings that match the pattern?"
   ]
  },
  {
   "cell_type": "code",
   "execution_count": null,
   "id": "82149cb5",
   "metadata": {},
   "outputs": [],
   "source": [
    " matchingObject.group() will return the string."
   ]
  },
  {
   "cell_type": "markdown",
   "id": "03f4179b",
   "metadata": {},
   "source": [
    "## 5. In the regex which created from the r&#39;(\\d\\d\\d)-(\\d\\d\\d-\\d\\d\\d\\d)&#39;, what does group zero cover? Group 2? Group 1?"
   ]
  },
  {
   "cell_type": "code",
   "execution_count": 4,
   "id": "f5cff9a1",
   "metadata": {},
   "outputs": [
    {
     "name": "stdout",
     "output_type": "stream",
     "text": [
      "123\n",
      "456-4789\n"
     ]
    }
   ],
   "source": [
    "import re\n",
    "inregex = re.compile(r'(\\d\\d\\d)-(\\d\\d\\d-\\d\\d\\d\\d)')\n",
    "mo = inregex.search('My number is 123-456-4789.')\n",
    "print(mo.group(1))\n",
    "print(mo.group(2))\n"
   ]
  },
  {
   "cell_type": "markdown",
   "id": "8e1d596f",
   "metadata": {},
   "source": [
    "## 6. In standard expression syntax, parentheses and intervals have distinct meanings. How can you tell a regex that you want it to fit real parentheses and periods?"
   ]
  },
  {
   "cell_type": "code",
   "execution_count": null,
   "id": "411681f9",
   "metadata": {},
   "outputs": [],
   "source": [
    "Periods and parentheses can be escaped with a backslash: ., (, and )."
   ]
  },
  {
   "cell_type": "markdown",
   "id": "f8b63de5",
   "metadata": {},
   "source": [
    "## 7. The findall() method returns a string list or a list of string tuples. What causes it to return one of the two options?"
   ]
  },
  {
   "cell_type": "code",
   "execution_count": null,
   "id": "0f353f16",
   "metadata": {},
   "outputs": [],
   "source": [
    " If the regex has no groups, a list of strings is returned. If the regex has groups, a list of tuples of strings is returned."
   ]
  },
  {
   "cell_type": "markdown",
   "id": "83affa37",
   "metadata": {},
   "source": [
    "## 8. In standard expressions, what does the | character mean?"
   ]
  },
  {
   "cell_type": "code",
   "execution_count": null,
   "id": "c42a4887",
   "metadata": {},
   "outputs": [],
   "source": [
    "The | character signifies matching “either, or” between two groups"
   ]
  },
  {
   "cell_type": "markdown",
   "id": "ed6e9885",
   "metadata": {},
   "source": [
    "## 9. In regular expressions, what does the character stand for?"
   ]
  },
  {
   "cell_type": "code",
   "execution_count": null,
   "id": "0bf0398b",
   "metadata": {},
   "outputs": [],
   "source": [
    ".   Matches any single character except the newline character.\n",
    "\\s  Matches a whitespace character\n",
    "\\S  NOT whitespace\n",
    "\\w  A word character. A word character is a letter, a number, or an underscore.\n",
    "    This set of characters may also be represented by the regex character set [a-zA-Z0-9_]\n",
    "\\W  NOT a word character"
   ]
  },
  {
   "cell_type": "markdown",
   "id": "ccdb2846",
   "metadata": {},
   "source": [
    "## 10.In regular expressions, what is the difference between the + and * characters?"
   ]
  },
  {
   "cell_type": "code",
   "execution_count": null,
   "id": "e4f44e9f",
   "metadata": {},
   "outputs": [],
   "source": [
    "The +  one or more.\n",
    "The *  zero or more"
   ]
  },
  {
   "cell_type": "markdown",
   "id": "026f6be7",
   "metadata": {},
   "source": [
    "## 11. What is the difference between {4} and {4,5} in regular expression?"
   ]
  },
  {
   "cell_type": "code",
   "execution_count": null,
   "id": "0e32773c",
   "metadata": {},
   "outputs": [],
   "source": [
    "The {4} matches exactly four instances of the preceding group.\n",
    "\n",
    "The {4,5} matches between four and five instances"
   ]
  },
  {
   "cell_type": "markdown",
   "id": "305d412f",
   "metadata": {},
   "source": [
    "## 12. What do you mean by the \\d, \\w, and \\s shorthand character classes signify in regular expressions?"
   ]
  },
  {
   "cell_type": "code",
   "execution_count": null,
   "id": "596df8d7",
   "metadata": {},
   "outputs": [],
   "source": [
    "The \\d, stands for single digit, Any numeric digit from 0 to 9\n",
    "\\w stands for single word, Any letter, numeric digit, or the underscore character.  \n",
    "\\s stands for single space character, Any space, tab, or newline character"
   ]
  },
  {
   "cell_type": "markdown",
   "id": "7d4fe4c5",
   "metadata": {},
   "source": [
    "## 14. What is the difference between .*? and .*?"
   ]
  },
  {
   "cell_type": "code",
   "execution_count": null,
   "id": "150cd521",
   "metadata": {},
   "outputs": [],
   "source": [
    "he dot-star uses greedy mode: It will always try to match as much text as possible.\n",
    ".? - To match any and all text in a non-greedy fashion, use the dot, star, and question mark\n",
    "(.*?). Like with braces, the question mark tells Python to match in a non-greedy way."
   ]
  },
  {
   "cell_type": "markdown",
   "id": "7c8c1c81",
   "metadata": {},
   "source": [
    "## 15. What is the syntax for matching both numbers and lowercase letters with a character class?"
   ]
  },
  {
   "cell_type": "code",
   "execution_count": null,
   "id": "e9ee8e91",
   "metadata": {},
   "outputs": [],
   "source": [
    "[0-9a-z] or [a-z0-9]"
   ]
  },
  {
   "cell_type": "markdown",
   "id": "a2d3cdb6",
   "metadata": {},
   "source": [
    "## 16. What is the procedure for making a normal expression in regax case insensitive?"
   ]
  },
  {
   "cell_type": "code",
   "execution_count": 5,
   "id": "01afa05d",
   "metadata": {},
   "outputs": [
    {
     "data": {
      "text/plain": [
       "'Machine'"
      ]
     },
     "execution_count": 5,
     "metadata": {},
     "output_type": "execute_result"
    }
   ],
   "source": [
    "# Passing re.I or re.IGNORECASE as the second argument to re.compile() will make the matching case insensitive\n",
    "casesenitive = re.compile(r'machine', re.I)\n",
    "casesenitive.search('Machine learning is part of Ai').group()"
   ]
  },
  {
   "cell_type": "markdown",
   "id": "29651b86",
   "metadata": {},
   "source": [
    "## 17. What does the . character normally match? What does it match if re.DOTALL is passed as 2nd argument in re.compile()?"
   ]
  },
  {
   "cell_type": "code",
   "execution_count": null,
   "id": "c81d69f4",
   "metadata": {},
   "outputs": [],
   "source": [
    " If re.DOTALL is passed as the second argument to re.compile(), then the dot will also match newline characters."
   ]
  },
  {
   "cell_type": "markdown",
   "id": "04969c04",
   "metadata": {},
   "source": [
    "## 18. If numReg = re.compile(r&#39;\\d+&#39;), what will numRegex.sub(&#39;X&#39;, &#39;11 drummers, 10 pipers, five rings, 4 hen&#39;) return?"
   ]
  },
  {
   "cell_type": "code",
   "execution_count": 7,
   "id": "890b901e",
   "metadata": {},
   "outputs": [
    {
     "data": {
      "text/plain": [
       "'X drummers, X pipers, five rings, X hen'"
      ]
     },
     "execution_count": 7,
     "metadata": {},
     "output_type": "execute_result"
    }
   ],
   "source": [
    "numReg = re.compile(r'\\d+')\n",
    "K = numReg.sub('X', '11 drummers, 10 pipers, five rings, 4 hen')\n",
    "K"
   ]
  },
  {
   "cell_type": "markdown",
   "id": "3f91107a",
   "metadata": {},
   "source": [
    "## 19. What does passing re.VERBOSE as the 2nd argument to re.compile() allow to do?"
   ]
  },
  {
   "cell_type": "code",
   "execution_count": null,
   "id": "0e3309ca",
   "metadata": {},
   "outputs": [],
   "source": [
    "The re.VERBOSE argument allows you to add whitespace and comments to the string passed to re.compile()"
   ]
  },
  {
   "cell_type": "markdown",
   "id": "64f4f639",
   "metadata": {},
   "source": [
    "## 20. How would you write a regex that match a number with comma for every three digits? It must match the given following:"
   ]
  },
  {
   "cell_type": "code",
   "execution_count": 11,
   "id": "81889dff",
   "metadata": {},
   "outputs": [
    {
     "name": "stdout",
     "output_type": "stream",
     "text": [
      "42\n",
      "1,234\n",
      "6,368,745\n"
     ]
    }
   ],
   "source": [
    "reg1 = re.compile(r'^\\d{1,3}(,\\d{3})*$')\n",
    "k1 = reg1.search('42')\n",
    "print(k1.group())\n",
    "k2 = reg1.search('1,234')\n",
    "print(k2.group())\n",
    "k3 = reg1.search('6,368,745')\n",
    "print(k3.group())"
   ]
  },
  {
   "cell_type": "markdown",
   "id": "77ff15f7",
   "metadata": {},
   "source": [
    "## 22. How would you write a regex that matches a sentence where the first word is either Alice, Bob, or Carol; the second word is either eats, pets, or throws; the third word is apples, cats, or baseballs; and the sentence ends with a period? This regex should be case-insensitive. It must match the following:\n"
   ]
  },
  {
   "cell_type": "code",
   "execution_count": 10,
   "id": "a8579bfd",
   "metadata": {},
   "outputs": [
    {
     "name": "stdout",
     "output_type": "stream",
     "text": [
      "Alice eats apples.\n",
      "Carol throws baseballs.\n"
     ]
    }
   ],
   "source": [
    "name = re.compile(r'(Alice|Bob|Carol)\\s(eats|pets|throws)\\s(apples|cats|baseballs)\\.', re.IGNORECASE)\n",
    "\n",
    "k1 = name.search('Alice eats apples.')\n",
    "print(k1.group())\n",
    "k2 = name.search('Carol throws baseballs.')\n",
    "print(k2.group())"
   ]
  },
  {
   "cell_type": "code",
   "execution_count": null,
   "id": "b86a8616",
   "metadata": {},
   "outputs": [],
   "source": []
  }
 ],
 "metadata": {
  "kernelspec": {
   "display_name": "Python 3 (ipykernel)",
   "language": "python",
   "name": "python3"
  },
  "language_info": {
   "codemirror_mode": {
    "name": "ipython",
    "version": 3
   },
   "file_extension": ".py",
   "mimetype": "text/x-python",
   "name": "python",
   "nbconvert_exporter": "python",
   "pygments_lexer": "ipython3",
   "version": "3.9.6"
  }
 },
 "nbformat": 4,
 "nbformat_minor": 5
}
