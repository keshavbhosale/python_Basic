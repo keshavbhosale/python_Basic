{
 "cells": [
  {
   "cell_type": "markdown",
   "id": "5aa713d7",
   "metadata": {},
   "source": [
    "## 1. In what modes should the PdfFileReader() and PdfFileWriter() File objects will be opened?"
   ]
  },
  {
   "cell_type": "code",
   "execution_count": null,
   "id": "a9a354ef",
   "metadata": {},
   "outputs": [],
   "source": [
    "PdfFileReader() needs to be opened in read-binary mode by passing 'rb'\n",
    "PdfFileWriter() needs to be opened in write-binary mode with 'wb'."
   ]
  },
  {
   "cell_type": "code",
   "execution_count": 1,
   "id": "d2af4c58",
   "metadata": {},
   "outputs": [
    {
     "name": "stdout",
     "output_type": "stream",
     "text": [
      "Collecting PyPDF2\n",
      "  Downloading PyPDF2-2.11.0-py3-none-any.whl (220 kB)\n",
      "     -------------------------------------- 220.2/220.2 kB 2.7 MB/s eta 0:00:00\n",
      "Requirement already satisfied: typing-extensions>=3.10.0.0 in c:\\users\\keshav bhosale\\appdata\\local\\programs\\python\\python39\\lib\\site-packages (from PyPDF2) (4.1.1)\n",
      "Installing collected packages: PyPDF2\n",
      "Successfully installed PyPDF2-2.11.0\n"
     ]
    }
   ],
   "source": [
    "!pip install PyPDF2"
   ]
  },
  {
   "cell_type": "markdown",
   "id": "651d3f79",
   "metadata": {},
   "source": [
    "## 2. From a PdfFileReader object, how do you get a Page object for page 5?"
   ]
  },
  {
   "cell_type": "markdown",
   "id": "0308fee2",
   "metadata": {},
   "source": [
    "Calling getPage(4) will return a Page object for page 5 since page 0 is the first page"
   ]
  },
  {
   "cell_type": "code",
   "execution_count": null,
   "id": "3e89e46b",
   "metadata": {},
   "outputs": [],
   "source": [
    "import PyPDF2 as pdf\n",
    "pdfFileObj = open(\"keshav.pdf\",'rb')\n",
    "pdfReader = pdf.PdfFileReader(pdfFileObj)\n",
    "pageObj = pdfReader.getPage(4)\n",
    "pageObj.extractText()"
   ]
  },
  {
   "cell_type": "markdown",
   "id": "c7cdf9bc",
   "metadata": {},
   "source": [
    "## 3. What PdfFileReader variable stores the number of pages in the PDF document?"
   ]
  },
  {
   "cell_type": "code",
   "execution_count": null,
   "id": "56a340ae",
   "metadata": {},
   "outputs": [],
   "source": [
    "import PyPDF2 as pdf\n",
    "pdfFileObj = open(\"keshav.pdf\",'rb')\n",
    "pdfReader = pdf.PdfFileReader(pdfFileObj)\n",
    "pdfReader.numPages"
   ]
  },
  {
   "cell_type": "markdown",
   "id": "b10b268a",
   "metadata": {},
   "source": [
    "## 4. If a PdfFileReader object’s PDF is encrypted with the password swordfish, what must you do before you can obtain Page objects from it?"
   ]
  },
  {
   "cell_type": "code",
   "execution_count": null,
   "id": "f8167948",
   "metadata": {},
   "outputs": [],
   "source": [
    "Before we obtain the page object, the pdf has to be decrypted by calling .decrypt('swordfish')"
   ]
  },
  {
   "cell_type": "markdown",
   "id": "dbaca604",
   "metadata": {},
   "source": [
    "## 5. What methods do you use to rotate a page?"
   ]
  },
  {
   "cell_type": "code",
   "execution_count": null,
   "id": "1b440255",
   "metadata": {},
   "outputs": [],
   "source": [
    "pageObj.rotateClockwise(180)\n",
    "The rotateClockwise() and rotateCounterClockwise() methods. The degrees to rotate is passed as an integer argument"
   ]
  },
  {
   "cell_type": "markdown",
   "id": "763000e4",
   "metadata": {},
   "source": [
    "## 6. What is the difference between a Run object and a Paragraph object?"
   ]
  },
  {
   "cell_type": "code",
   "execution_count": null,
   "id": "2d684b90",
   "metadata": {},
   "outputs": [],
   "source": [
    "Paragraph Object : A document contains multiple paragraphs. A paragraph begins on a new line and contains multiple runs. \n",
    "                  The Document object contains a list of Paragraph objects for the paragraphs in the document.\n",
    "                  (A new paragraph begins whenever the user presses ENTER or RETURN while typing in a Word document.)\n",
    "Run Objects : Runs are contiguous groups of characters within a paragraph with the same style"
   ]
  },
  {
   "cell_type": "markdown",
   "id": "ad7d3793",
   "metadata": {},
   "source": [
    "## 7. How do you obtain a list of Paragraph objects for a Document object that’s stored in a variable named doc?"
   ]
  },
  {
   "cell_type": "code",
   "execution_count": null,
   "id": "02fa5653",
   "metadata": {},
   "outputs": [],
   "source": [
    "#!pip install python-docx\n",
    "import docx\n",
    "doc = docx.Document('krv.docx')\n",
    "doc.paragraphs"
   ]
  },
  {
   "cell_type": "markdown",
   "id": "6cea6df3",
   "metadata": {},
   "source": [
    "## 8. What type of object has bold, underline, italic, strike, and outline variables?"
   ]
  },
  {
   "cell_type": "code",
   "execution_count": null,
   "id": "0b62b20a",
   "metadata": {},
   "outputs": [],
   "source": [
    "A Run object has bold, underline,italic,strike and outline variables"
   ]
  },
  {
   "cell_type": "markdown",
   "id": "025b6b5e",
   "metadata": {},
   "source": [
    "## 9. What is the difference between False, True, and None for the bold variable?"
   ]
  },
  {
   "cell_type": "code",
   "execution_count": null,
   "id": "af7453b6",
   "metadata": {},
   "outputs": [],
   "source": [
    "True always makes the Run object bolded\n",
    "False makes it always not bolded, no matter what the style’s bold setting is.\n",
    "None will make the Run object just use the style’s bold setting"
   ]
  },
  {
   "cell_type": "markdown",
   "id": "25a3ca03",
   "metadata": {},
   "source": [
    "## 10. How do you create a Document object for a new Word document?"
   ]
  },
  {
   "cell_type": "code",
   "execution_count": null,
   "id": "af66fa37",
   "metadata": {},
   "outputs": [],
   "source": [
    " docx.Document()"
   ]
  },
  {
   "cell_type": "markdown",
   "id": "aee0ce27",
   "metadata": {},
   "source": [
    "## 11. How do you add a paragraph with the text &#39;Hello, there!&#39; to a Document object stored in a variable named doc?"
   ]
  },
  {
   "cell_type": "code",
   "execution_count": null,
   "id": "7a6e94a7",
   "metadata": {},
   "outputs": [],
   "source": [
    "import docx\n",
    "doc = docx.Document()\n",
    "\n",
    "doc.add_paragraph('Hello there!')\n",
    "doc.save('hellothere.docx')"
   ]
  },
  {
   "cell_type": "code",
   "execution_count": null,
   "id": "9edc5a76",
   "metadata": {},
   "outputs": [],
   "source": []
  }
 ],
 "metadata": {
  "kernelspec": {
   "display_name": "Python 3 (ipykernel)",
   "language": "python",
   "name": "python3"
  },
  "language_info": {
   "codemirror_mode": {
    "name": "ipython",
    "version": 3
   },
   "file_extension": ".py",
   "mimetype": "text/x-python",
   "name": "python",
   "nbconvert_exporter": "python",
   "pygments_lexer": "ipython3",
   "version": "3.9.6"
  }
 },
 "nbformat": 4,
 "nbformat_minor": 5
}
