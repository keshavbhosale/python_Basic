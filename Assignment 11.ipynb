{
 "cells": [
  {
   "cell_type": "markdown",
   "id": "bf4c51ee",
   "metadata": {},
   "source": [
    "## 1. Create an assert statement that throws an AssertionError if the variable spam is a negative integer."
   ]
  },
  {
   "cell_type": "code",
   "execution_count": 2,
   "id": "ca131f58",
   "metadata": {},
   "outputs": [
    {
     "name": "stdout",
     "output_type": "stream",
     "text": [
      "Enter a negative number: -1\n",
      "v\n"
     ]
    }
   ],
   "source": [
    "try: \n",
    "  spam = int(input('Enter a negative number: '))\n",
    "  assert choice > 0 # Test if it true\n",
    "except AssertionError as v :\n",
    "  print(\"v\")"
   ]
  },
  {
   "cell_type": "markdown",
   "id": "0cc2f8c2",
   "metadata": {},
   "source": [
    "## 2. Write an assert statement that triggers an AssertionError if the variables eggs and bacon contain strings that are the same as each other, even if their cases are different (that is, &#39;hello&#39; and &#39;hello&#39; are considered the same, and &#39;goodbye&#39; and &#39;GOODbye&#39; are also considered the same)."
   ]
  },
  {
   "cell_type": "markdown",
   "id": "9f452c43",
   "metadata": {},
   "source": [
    "## 3. Create an assert statement that throws an AssertionError every time."
   ]
  },
  {
   "cell_type": "raw",
   "id": "8d0b412b",
   "metadata": {},
   "source": [
    "assert True, 'Always triggers an AssertionError."
   ]
  },
  {
   "cell_type": "markdown",
   "id": "4e4d3c7f",
   "metadata": {},
   "source": [
    "## 4. What are the two lines that must be present in your software in order to call logging.debug()?"
   ]
  },
  {
   "cell_type": "code",
   "execution_count": null,
   "id": "fda2b326",
   "metadata": {},
   "outputs": [],
   "source": [
    "import logging\n",
    "logging.basicConfig(\n",
    "    filename='programLog.txt',\n",
    "    level=logging.DEBUG,\n",
    "    format='%(asctime)s - %(levelname)s - %(message)s'\n",
    ")"
   ]
  },
  {
   "cell_type": "markdown",
   "id": "d1227b46",
   "metadata": {},
   "source": [
    "## 6. What are the five levels of logging?"
   ]
  },
  {
   "cell_type": "code",
   "execution_count": null,
   "id": "cd6a9058",
   "metadata": {},
   "outputs": [],
   "source": [
    "# logging.debug() - variable's state and small details\n",
    "# logging.info() - general events, confirm a program is working\n",
    "# logging.warning() - potiental problem to work on in the future\n",
    "# logging.error() - record an error that caused program to fail to do something\n",
    "# logging.critical() - fatal error that has caused\n"
   ]
  },
  {
   "cell_type": "markdown",
   "id": "1dab0c4e",
   "metadata": {},
   "source": [
    "## 7. What line of code would you add to your software to disable all logging messages?"
   ]
  },
  {
   "cell_type": "code",
   "execution_count": null,
   "id": "2f4501d4",
   "metadata": {},
   "outputs": [],
   "source": [
    "logging.disable(logging.DEBUG)"
   ]
  },
  {
   "cell_type": "markdown",
   "id": "db1b4f1d",
   "metadata": {},
   "source": [
    "## 8.Why is using logging messages better than using print() to display the same message?"
   ]
  },
  {
   "cell_type": "code",
   "execution_count": null,
   "id": "0dd9b9ea",
   "metadata": {},
   "outputs": [],
   "source": [
    "Because with print, when your program is ready for production, you still\n",
    "have to \"remove\" or comment it out. Verses logging message, you can toggle\n",
    "the setting on/off or write to a file (send to a server). It is more flexible\n",
    "especially with logging level 1-5."
   ]
  },
  {
   "cell_type": "markdown",
   "id": "cabf3f7b",
   "metadata": {},
   "source": [
    "## 9. What are the differences between the Step Over, Step In, and Step Out buttons in the debugger?"
   ]
  },
  {
   "cell_type": "markdown",
   "id": "ea130ff5",
   "metadata": {},
   "source": [
    "Step - one line execution at a time\n",
    "Over - excecute the next line of code, but if it is a program, it will complete the entire function call.\n",
    "out  - execute the lines of code unti it returns from the current function.(out is useful when you stepped into a function call)."
   ]
  },
  {
   "cell_type": "markdown",
   "id": "aa799525",
   "metadata": {},
   "source": [
    "## 10.After you click Continue, when will the debugger stop ?"
   ]
  },
  {
   "cell_type": "code",
   "execution_count": null,
   "id": "ad2e8ba4",
   "metadata": {},
   "outputs": [],
   "source": [
    "Go runs until the program terminate or reaches a breakpoint set"
   ]
  },
  {
   "cell_type": "markdown",
   "id": "91876e53",
   "metadata": {},
   "source": [
    "## 11. What is the concept of a breakpoint?"
   ]
  },
  {
   "cell_type": "markdown",
   "id": "5062e9ad",
   "metadata": {},
   "source": [
    "When you have Debugger enabled and you can right click on any lines to create a breakpoint. During Go - it will stop there and await your next command."
   ]
  },
  {
   "cell_type": "code",
   "execution_count": null,
   "id": "9b361c89",
   "metadata": {},
   "outputs": [],
   "source": []
  }
 ],
 "metadata": {
  "kernelspec": {
   "display_name": "Python 3 (ipykernel)",
   "language": "python",
   "name": "python3"
  },
  "language_info": {
   "codemirror_mode": {
    "name": "ipython",
    "version": 3
   },
   "file_extension": ".py",
   "mimetype": "text/x-python",
   "name": "python",
   "nbconvert_exporter": "python",
   "pygments_lexer": "ipython3",
   "version": "3.9.6"
  }
 },
 "nbformat": 4,
 "nbformat_minor": 5
}
