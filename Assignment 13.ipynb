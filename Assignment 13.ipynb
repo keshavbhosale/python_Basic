{
 "cells": [
  {
   "cell_type": "markdown",
   "id": "69db95c3",
   "metadata": {},
   "source": [
    "## 1. What advantages do Excel spreadsheets have over CSV spreadsheets?"
   ]
  },
  {
   "cell_type": "raw",
   "id": "bbcc72c7",
   "metadata": {},
   "source": [
    "1) Excel (XLS and XLSX) file formats are better for storing more complex data\n",
    "2) Excel is more superior when compared with the CSV file format; thus, CSV consumes less amount of file size when the user is importing data; it is a much faster format compared to excel. CSV does not manipulate data and stores it as-is. Excel also allows the user the add-in feature."
   ]
  },
  {
   "cell_type": "markdown",
   "id": "d8434af6",
   "metadata": {},
   "source": [
    "## 2.What do you pass to csv.reader() and csv.writer() to create reader and writer objects?"
   ]
  },
  {
   "cell_type": "code",
   "execution_count": null,
   "id": "14a00d46",
   "metadata": {},
   "outputs": [],
   "source": [
    "The csv. writer() function returns a writer object that converts the user's data into a delimited string.\n",
    "The csv.reader() function returns a read object"
   ]
  },
  {
   "cell_type": "code",
   "execution_count": null,
   "id": "b7fdb2e1",
   "metadata": {},
   "outputs": [],
   "source": [
    "import csv\n",
    "with open('sample.csv', 'w', newline='') as file:\n",
    "    writer = csv.writer(file)\n",
    "    writer.writerow([\"id\", \"Movie\"])\n",
    "    writer.writerow([1, \"Lord of the Rings\"])\n",
    "    writer.writerow([2, \"Harry Potter\"])"
   ]
  },
  {
   "cell_type": "code",
   "execution_count": null,
   "id": "14712e27",
   "metadata": {},
   "outputs": [],
   "source": [
    "import csv\n",
    "with open('sample.csv', 'r') as file:\n",
    "    reader = csv.reader(file)\n",
    "    for row in reader:\n",
    "        print(row)"
   ]
  },
  {
   "cell_type": "markdown",
   "id": "6e09a0b6",
   "metadata": {},
   "source": [
    "## 3. What modes do File objects for reader and writer objects need to be opened in?"
   ]
  },
  {
   "cell_type": "raw",
   "id": "c7063bf8",
   "metadata": {},
   "source": [
    "Python File Modes\n",
    "mode                      Description\n",
    "'r'                       = Open a file for reading.\n",
    "'w'                       = Open a file for writing. \n",
    "                             Creates a new file if it does not exist or truncates the file if it exists."
   ]
  },
  {
   "cell_type": "markdown",
   "id": "721a51c7",
   "metadata": {},
   "source": [
    "## 4. What method takes a list argument and writes it to a CSV file?"
   ]
  },
  {
   "cell_type": "code",
   "execution_count": 3,
   "id": "0b11a65c",
   "metadata": {},
   "outputs": [],
   "source": [
    "import csv\n",
    "\n",
    "cols = [\"Name\", \"Series\", \"Profession\", \"Age\"]\n",
    "\n",
    "rows = [[\"M\", \"Mandalorian\", \"Bounty Hunter\", 35],\n",
    "        [\"G\", \"Mandalorian\", \"Jedi Master\", 50],\n",
    "        [\"E\", \"Stranger Things\", \"Kid\", 14],\n",
    "        [\"J\", \"Game of Thrones\", \"King\", 30],\n",
    "        [\"R\", \"Friends\", \"Paleontologist\", 35]]\n",
    "\n",
    "with open('shows.csv', 'w') as f:\n",
    "\n",
    "    # using csv.writer method from CSV package\n",
    "    write = csv.writer(f)\n",
    "\n",
    "    write.writerow(cols)\n",
    "    write.writerows(rows)"
   ]
  },
  {
   "cell_type": "code",
   "execution_count": 4,
   "id": "2b7624ef",
   "metadata": {},
   "outputs": [
    {
     "data": {
      "text/html": [
       "<div>\n",
       "<style scoped>\n",
       "    .dataframe tbody tr th:only-of-type {\n",
       "        vertical-align: middle;\n",
       "    }\n",
       "\n",
       "    .dataframe tbody tr th {\n",
       "        vertical-align: top;\n",
       "    }\n",
       "\n",
       "    .dataframe thead th {\n",
       "        text-align: right;\n",
       "    }\n",
       "</style>\n",
       "<table border=\"1\" class=\"dataframe\">\n",
       "  <thead>\n",
       "    <tr style=\"text-align: right;\">\n",
       "      <th></th>\n",
       "      <th>Name</th>\n",
       "      <th>Series</th>\n",
       "      <th>Profession</th>\n",
       "      <th>Age</th>\n",
       "    </tr>\n",
       "  </thead>\n",
       "  <tbody>\n",
       "    <tr>\n",
       "      <th>0</th>\n",
       "      <td>M</td>\n",
       "      <td>Mandalorian</td>\n",
       "      <td>Bounty Hunter</td>\n",
       "      <td>35</td>\n",
       "    </tr>\n",
       "    <tr>\n",
       "      <th>1</th>\n",
       "      <td>G</td>\n",
       "      <td>Mandalorian</td>\n",
       "      <td>Jedi Master</td>\n",
       "      <td>50</td>\n",
       "    </tr>\n",
       "    <tr>\n",
       "      <th>2</th>\n",
       "      <td>E</td>\n",
       "      <td>Stranger Things</td>\n",
       "      <td>Kid</td>\n",
       "      <td>14</td>\n",
       "    </tr>\n",
       "    <tr>\n",
       "      <th>3</th>\n",
       "      <td>J</td>\n",
       "      <td>Game of Thrones</td>\n",
       "      <td>King</td>\n",
       "      <td>30</td>\n",
       "    </tr>\n",
       "    <tr>\n",
       "      <th>4</th>\n",
       "      <td>R</td>\n",
       "      <td>Friends</td>\n",
       "      <td>Paleontologist</td>\n",
       "      <td>35</td>\n",
       "    </tr>\n",
       "  </tbody>\n",
       "</table>\n",
       "</div>"
      ],
      "text/plain": [
       "  Name           Series      Profession  Age\n",
       "0    M      Mandalorian   Bounty Hunter   35\n",
       "1    G      Mandalorian     Jedi Master   50\n",
       "2    E  Stranger Things             Kid   14\n",
       "3    J  Game of Thrones            King   30\n",
       "4    R          Friends  Paleontologist   35"
      ]
     },
     "execution_count": 4,
     "metadata": {},
     "output_type": "execute_result"
    }
   ],
   "source": [
    "import pandas as pd\n",
    "pd.read_csv('shows.csv')"
   ]
  },
  {
   "cell_type": "markdown",
   "id": "02dc1d84",
   "metadata": {},
   "source": [
    "## 5. What do the keyword arguments delimiter and line terminator do?"
   ]
  },
  {
   "cell_type": "raw",
   "id": "68630267",
   "metadata": {},
   "source": [
    "delimiter specifies the character used to separate each field\n",
    "The line terminator is the character that comes at the end of a row. By default, the line terminator is a newline"
   ]
  },
  {
   "cell_type": "markdown",
   "id": "1345bfe1",
   "metadata": {},
   "source": [
    "## 6. What function takes a string of JSON data and returns a Python data structure?"
   ]
  },
  {
   "cell_type": "raw",
   "id": "16701eea",
   "metadata": {},
   "source": [
    "json.loads() method return Python data structure of JSON string or data."
   ]
  },
  {
   "cell_type": "markdown",
   "id": "10ea5148",
   "metadata": {},
   "source": [
    "## 7. What function takes a Python data structure and returns a string of JSON data?"
   ]
  },
  {
   "cell_type": "raw",
   "id": "3b12ba40",
   "metadata": {},
   "source": [
    " json. dumps() method return a string of JSON data of Python data structure"
   ]
  },
  {
   "cell_type": "code",
   "execution_count": null,
   "id": "c4b92528",
   "metadata": {},
   "outputs": [],
   "source": []
  }
 ],
 "metadata": {
  "kernelspec": {
   "display_name": "Python 3 (ipykernel)",
   "language": "python",
   "name": "python3"
  },
  "language_info": {
   "codemirror_mode": {
    "name": "ipython",
    "version": 3
   },
   "file_extension": ".py",
   "mimetype": "text/x-python",
   "name": "python",
   "nbconvert_exporter": "python",
   "pygments_lexer": "ipython3",
   "version": "3.9.6"
  }
 },
 "nbformat": 4,
 "nbformat_minor": 5
}
