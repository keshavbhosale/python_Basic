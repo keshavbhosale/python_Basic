{
 "cells": [
  {
   "cell_type": "markdown",
   "id": "804cca3c",
   "metadata": {},
   "source": [
    "## 1. Why are functions advantageous to have in your programs?"
   ]
  },
  {
   "cell_type": "code",
   "execution_count": null,
   "id": "a5945777",
   "metadata": {},
   "outputs": [],
   "source": [
    "Python functions are techniques used to combine a set of statements within a program.\n",
    "advantage of function  makes programs shorter, easier to read, and easier to update, fuction make for reusabilty of code."
   ]
  },
  {
   "cell_type": "markdown",
   "id": "0980c655",
   "metadata": {},
   "source": [
    "## 2. When does the code in a function run: when it&#39;s specified or when it&#39;s called?"
   ]
  },
  {
   "cell_type": "code",
   "execution_count": null,
   "id": "af2694e4",
   "metadata": {},
   "outputs": [],
   "source": [
    "when function called that time Code in the function is run"
   ]
  },
  {
   "cell_type": "markdown",
   "id": "d7ac5591",
   "metadata": {},
   "source": [
    "## 3. What statement creates a function?"
   ]
  },
  {
   "cell_type": "code",
   "execution_count": null,
   "id": "08dcc818",
   "metadata": {},
   "outputs": [],
   "source": [
    "def statement create function\n",
    "example\n",
    "def test():\n",
    "    pass"
   ]
  },
  {
   "cell_type": "markdown",
   "id": "d7e3ae9d",
   "metadata": {},
   "source": [
    "## 4. What is the difference between a function and a function call?"
   ]
  },
  {
   "cell_type": "code",
   "execution_count": null,
   "id": "37b209f1",
   "metadata": {},
   "outputs": [],
   "source": [
    "the code in its def clause i.e function\n",
    "when fuction call that time it give return value as output"
   ]
  },
  {
   "cell_type": "code",
   "execution_count": 1,
   "id": "0a2f3ed4",
   "metadata": {},
   "outputs": [],
   "source": [
    "#example:\n",
    "def test():        #def of func \n",
    "    pass \n",
    "test()                #calling of function"
   ]
  },
  {
   "cell_type": "markdown",
   "id": "ae524774",
   "metadata": {},
   "source": [
    "## 5. How many global scopes are there in a Python program? How many local scopes?"
   ]
  },
  {
   "cell_type": "code",
   "execution_count": null,
   "id": "5badfcd1",
   "metadata": {},
   "outputs": [],
   "source": [
    "global scopes continous until existance program terminates\n",
    "and a local scope is created whenever a function is called."
   ]
  },
  {
   "cell_type": "markdown",
   "id": "67e79b03",
   "metadata": {},
   "source": [
    "## 6. What happens to variables in a local scope when the function call returns?"
   ]
  },
  {
   "cell_type": "code",
   "execution_count": null,
   "id": "2cc5a52e",
   "metadata": {},
   "outputs": [],
   "source": [
    "When a function returns, the local scope is ended."
   ]
  },
  {
   "cell_type": "markdown",
   "id": "b9ecf004",
   "metadata": {},
   "source": [
    "## 7. What is the concept of a return value? Is it possible to have a return value in an expression?"
   ]
  },
  {
   "cell_type": "code",
   "execution_count": null,
   "id": "84236060",
   "metadata": {},
   "outputs": [],
   "source": [
    "A return value is the value that a function call evaluates to. Like any value, a return value can be used as part of an expression."
   ]
  },
  {
   "cell_type": "markdown",
   "id": "7ee2568a",
   "metadata": {},
   "source": [
    "## 8. If a function does not have a return statement, what is the return value of a call to that function?"
   ]
  },
  {
   "cell_type": "code",
   "execution_count": null,
   "id": "8272ade7",
   "metadata": {},
   "outputs": [],
   "source": [
    "The funtion does not have a return statement it will not return anything."
   ]
  },
  {
   "cell_type": "markdown",
   "id": "736e34ed",
   "metadata": {},
   "source": [
    "## 9. How do you make a function variable refer to the global variable?"
   ]
  },
  {
   "cell_type": "code",
   "execution_count": null,
   "id": "985a113e",
   "metadata": {},
   "outputs": [],
   "source": [
    " To make function variable as a global variable you can use the global keyword to declare which variables are global."
   ]
  },
  {
   "cell_type": "markdown",
   "id": "fbf79fa6",
   "metadata": {},
   "source": [
    "## 10. What is the data type of None?"
   ]
  },
  {
   "cell_type": "code",
   "execution_count": null,
   "id": "b45a0125",
   "metadata": {},
   "outputs": [],
   "source": [
    "The data type of None is NoneType."
   ]
  },
  {
   "cell_type": "markdown",
   "id": "1e82ca30",
   "metadata": {},
   "source": [
    "## 11. What does the sentence import areallyourpetsnamederic do?"
   ]
  },
  {
   "cell_type": "code",
   "execution_count": null,
   "id": "b3865fdc",
   "metadata": {},
   "outputs": [],
   "source": [
    "Imports a module named areallyourpetsnamederic. (But a module of this name doesnt exists in Python)"
   ]
  },
  {
   "cell_type": "markdown",
   "id": "5ef572c7",
   "metadata": {},
   "source": [
    "## 12. If you had a bacon() feature in a spam module, what would you call it after importing spam?"
   ]
  },
  {
   "cell_type": "code",
   "execution_count": null,
   "id": "d232337f",
   "metadata": {},
   "outputs": [],
   "source": [
    "import spam\n",
    "spam.bacon()"
   ]
  },
  {
   "cell_type": "markdown",
   "id": "4459003c",
   "metadata": {},
   "source": [
    "## 13. What can you do to save a programme from crashing if it encounters an error?"
   ]
  },
  {
   "cell_type": "code",
   "execution_count": null,
   "id": "8b5c881f",
   "metadata": {},
   "outputs": [],
   "source": [
    "We can use try except clause to save a program fromcrashing."
   ]
  },
  {
   "cell_type": "markdown",
   "id": "c8170706",
   "metadata": {},
   "source": [
    "## 14. What is the purpose of the try clause? What is the purpose of the except clause?"
   ]
  },
  {
   "cell_type": "code",
   "execution_count": null,
   "id": "9bc77aeb",
   "metadata": {},
   "outputs": [],
   "source": [
    "Try clause is used to handle the error within our code\n",
    "try block will execute when there is no error in the program\n",
    "Whereas the code inside the except block will execute whenever the program encounters some error in the try block."
   ]
  }
 ],
 "metadata": {
  "kernelspec": {
   "display_name": "Python 3 (ipykernel)",
   "language": "python",
   "name": "python3"
  },
  "language_info": {
   "codemirror_mode": {
    "name": "ipython",
    "version": 3
   },
   "file_extension": ".py",
   "mimetype": "text/x-python",
   "name": "python",
   "nbconvert_exporter": "python",
   "pygments_lexer": "ipython3",
   "version": "3.9.6"
  }
 },
 "nbformat": 4,
 "nbformat_minor": 5
}
