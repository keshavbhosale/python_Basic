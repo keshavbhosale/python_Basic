{
 "cells": [
  {
   "cell_type": "markdown",
   "id": "2e202cc4",
   "metadata": {},
   "source": [
    "## 1. In the below elements which of them are values or an expression? eg:- values can be\n",
    "## integer or string and expressions will be mathematical operators.\n"
   ]
  },
  {
   "cell_type": "raw",
   "id": "caf92b54",
   "metadata": {},
   "source": [
    "* = values\n",
    "'hello'=a an expression\n",
    "-87.8=values\n",
    "-=an expression\n",
    "/=an expression\n",
    "+=an expression\n",
    "6=values"
   ]
  },
  {
   "cell_type": "markdown",
   "id": "764b3f05",
   "metadata": {},
   "source": [
    "## 2. What is the difference between string and variable?"
   ]
  },
  {
   "cell_type": "raw",
   "id": "18af4817",
   "metadata": {},
   "source": [
    "variable is store the information variable can store the string also and\n",
    "string in dataype you would stored in varible A String is usually words enclosed with quotes"
   ]
  },
  {
   "cell_type": "markdown",
   "id": "455331fd",
   "metadata": {},
   "source": [
    "## 3. Describe three different data types."
   ]
  },
  {
   "cell_type": "markdown",
   "id": "ae2608ab",
   "metadata": {},
   "source": [
    "### 1.Integers"
   ]
  },
  {
   "cell_type": "raw",
   "id": "7791d725",
   "metadata": {},
   "source": [
    "Integers is whole number example=2"
   ]
  },
  {
   "cell_type": "markdown",
   "id": "f470fdf7",
   "metadata": {},
   "source": [
    "### 2.String"
   ]
  },
  {
   "cell_type": "raw",
   "id": "2290ce7c",
   "metadata": {},
   "source": [
    "A String is usually words enclosed with quotes string is immutable datatypes\n",
    "example='hello'"
   ]
  },
  {
   "cell_type": "markdown",
   "id": "5e9ffab2",
   "metadata": {},
   "source": [
    "### 3.List"
   ]
  },
  {
   "cell_type": "raw",
   "id": "7f4e0d23",
   "metadata": {},
   "source": [
    "a collecton of any types of data enclosed with square bracket [],with comma seperated element,list is mutable\n",
    "example=[2,3,4,5]"
   ]
  },
  {
   "cell_type": "markdown",
   "id": "ba29fcef",
   "metadata": {},
   "source": [
    "### 4.Tuple"
   ]
  },
  {
   "cell_type": "raw",
   "id": "a4b0d883",
   "metadata": {},
   "source": [
    "a collecton of any types of data enclosed with square bracket (),with comma seperated element,tuple is immutable\n",
    "example=(1,2,3)"
   ]
  },
  {
   "cell_type": "markdown",
   "id": "6b213a00",
   "metadata": {},
   "source": [
    "## 4. What is an expression made up of? What do all expressions do?"
   ]
  },
  {
   "cell_type": "raw",
   "id": "fe1b1f4b",
   "metadata": {},
   "source": [
    "A expression is representation of value.it is a combination of opertaor and operands that is combine \n",
    "and produce some other value"
   ]
  },
  {
   "cell_type": "markdown",
   "id": "0ddbc294",
   "metadata": {},
   "source": [
    "## 5. This assignment statements, like spam = 10. What is the difference between an\n",
    "## expression and a statement?"
   ]
  },
  {
   "cell_type": "raw",
   "id": "c5fa9db9",
   "metadata": {},
   "source": [
    "An expression to determine or the fix value of\n",
    "An statement is unit of exacuation it does not return anything"
   ]
  },
  {
   "cell_type": "markdown",
   "id": "f7feebb1",
   "metadata": {},
   "source": [
    "## 6. After running the following code, what does the variable bacon contain?\n",
    "# bacon = 22\n",
    "# bacon + 1"
   ]
  },
  {
   "cell_type": "raw",
   "id": "6f91376f",
   "metadata": {},
   "source": [
    "Varable bacon contain output=23"
   ]
  },
  {
   "cell_type": "markdown",
   "id": "844693c9",
   "metadata": {},
   "source": [
    "## 7. What should the values of the following two terms be?"
   ]
  },
  {
   "cell_type": "markdown",
   "id": "b9fea24e",
   "metadata": {},
   "source": [
    "### 'spam'+'spamspam'\n",
    "### 'spam'*3"
   ]
  },
  {
   "cell_type": "raw",
   "id": "ba06cd18",
   "metadata": {},
   "source": [
    "Both terms gives same  ouput\n",
    "output='spamspamspam'"
   ]
  },
  {
   "cell_type": "markdown",
   "id": "0ebe8ead",
   "metadata": {},
   "source": [
    "## 8. Why is eggs a valid variable name while 100 is invalid?"
   ]
  },
  {
   "cell_type": "raw",
   "id": "1ff90f36",
   "metadata": {},
   "source": [
    "Due the some rules of python like\n",
    "a)=A variable name must start with a letter or the underscore character.\n",
    "b)=A variable name cannot start with a number.\n",
    "eggsis valid varible and 100 is invalid"
   ]
  },
  {
   "cell_type": "markdown",
   "id": "86c7641c",
   "metadata": {},
   "source": [
    "## 9. What three functions can be used to get the integer, floating-point number, or string\n",
    "## version of a value?"
   ]
  },
  {
   "cell_type": "raw",
   "id": "da8a6495",
   "metadata": {},
   "source": [
    "Integer=int()\n",
    "floating-point number=float()\n",
    "string=str()"
   ]
  },
  {
   "cell_type": "markdown",
   "id": "e5baea1f",
   "metadata": {},
   "source": [
    "## 10. Why does this expression cause an error? How can you fix it?\n",
    "### 'I have eaten'  + 99 + 'burritos'"
   ]
  },
  {
   "cell_type": "raw",
   "id": "b094bac9",
   "metadata": {},
   "source": [
    "We are not concatenate the differnt datatypes with + operator str + int\n",
    "convert int to str\n",
    "'I have eaten'+'99'+'burritos'"
   ]
  },
  {
   "cell_type": "code",
   "execution_count": null,
   "id": "ec7b0fb4",
   "metadata": {},
   "outputs": [],
   "source": []
  }
 ],
 "metadata": {
  "kernelspec": {
   "display_name": "Python 3 (ipykernel)",
   "language": "python",
   "name": "python3"
  },
  "language_info": {
   "codemirror_mode": {
    "name": "ipython",
    "version": 3
   },
   "file_extension": ".py",
   "mimetype": "text/x-python",
   "name": "python",
   "nbconvert_exporter": "python",
   "pygments_lexer": "ipython3",
   "version": "3.9.6"
  }
 },
 "nbformat": 4,
 "nbformat_minor": 5
}
